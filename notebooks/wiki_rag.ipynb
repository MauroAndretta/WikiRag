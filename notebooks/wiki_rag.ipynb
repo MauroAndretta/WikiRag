{
 "cells": [
  {
   "cell_type": "markdown",
   "metadata": {},
   "source": [
    "# WikiRag\n",
    "\n",
    "## Overview \n",
    "\n",
    "Notebook used to make preliminary test about the WikiRag class. \n",
    "\n",
    "# Prerequisistes\n",
    "\n",
    "A conda environment is needed. \n",
    "\n",
    "For example: \n",
    "```\n",
    "cd path/to/conda/dir\n",
    "conda env create -f wiki_rag_notebooks.yaml\n",
    "conda activate wiki_rag_notebooks\n",
    "python -m ipykernel install --user --name wiki_rag_notebooks --display-name \"wiki_rag_notebooks\"\n",
    "```"
   ]
  },
  {
   "cell_type": "code",
   "execution_count": 1,
   "metadata": {},
   "outputs": [],
   "source": [
    "# Import the necessary libraries\n",
    "from langchain_ollama import ChatOllama\n",
    "from langchain_core.messages import AIMessage"
   ]
  },
  {
   "cell_type": "code",
   "execution_count": 2,
   "metadata": {},
   "outputs": [],
   "source": [
    "llm = ChatOllama(\n",
    "    model=\"llama3.1\",\n",
    "    temperature=0,\n",
    "    # other params...\n",
    ")"
   ]
  },
  {
   "cell_type": "code",
   "execution_count": 4,
   "metadata": {},
   "outputs": [
    {
     "data": {
      "text/plain": [
       "AIMessage(content='The translation of \"I love programming\" from English to French is:\\n\\n\"J\\'adore programmer.\"', response_metadata={'model': 'llama3.1', 'created_at': '2024-08-24T08:35:12.2478659Z', 'message': {'role': 'assistant', 'content': ''}, 'done_reason': 'stop', 'done': True, 'total_duration': 17496895700, 'load_duration': 9489942300, 'prompt_eval_count': 35, 'prompt_eval_duration': 4641573000, 'eval_count': 22, 'eval_duration': 3348253000}, id='run-96ac8c01-a00a-4866-9d95-71715c77e143-0', usage_metadata={'input_tokens': 35, 'output_tokens': 22, 'total_tokens': 57})"
      ]
     },
     "execution_count": 4,
     "metadata": {},
     "output_type": "execute_result"
    }
   ],
   "source": [
    "messages = [\n",
    "    (\n",
    "        \"system\",\n",
    "        \"You are a helpful assistant that translates English to French. Translate the user sentence.\",\n",
    "    ),\n",
    "    (\"human\", \"I love programming.\"),\n",
    "]\n",
    "ai_msg = llm.invoke(messages)\n",
    "ai_msg"
   ]
  },
  {
   "cell_type": "code",
   "execution_count": 5,
   "metadata": {},
   "outputs": [
    {
     "data": {
      "text/plain": [
       "AIMessage(content='Das Programmieren ist mir sehr ansprechend.\\n\\nWould you like me to translate something else?', response_metadata={'model': 'llama3.1', 'created_at': '2024-08-24T08:37:32.6222737Z', 'message': {'role': 'assistant', 'content': ''}, 'done_reason': 'stop', 'done': True, 'total_duration': 116648839900, 'load_duration': 47936200, 'prompt_eval_count': 30, 'prompt_eval_duration': 22834258000, 'eval_count': 20, 'eval_duration': 93770313000}, id='run-c13ce09f-12fe-44b8-b2a7-10037c97855a-0', usage_metadata={'input_tokens': 30, 'output_tokens': 20, 'total_tokens': 50})"
      ]
     },
     "execution_count": 5,
     "metadata": {},
     "output_type": "execute_result"
    }
   ],
   "source": [
    "from langchain_core.prompts import ChatPromptTemplate\n",
    "\n",
    "prompt = ChatPromptTemplate.from_messages(\n",
    "    [\n",
    "        (\n",
    "            \"system\",\n",
    "            \"You are a helpful assistant that translates {input_language} to {output_language}.\",\n",
    "        ),\n",
    "        (\"human\", \"{input}\"),\n",
    "    ]\n",
    ")\n",
    "\n",
    "chain = prompt | llm\n",
    "chain.invoke(\n",
    "    {\n",
    "        \"input_language\": \"English\",\n",
    "        \"output_language\": \"German\",\n",
    "        \"input\": \"I love programming.\",\n",
    "    }\n",
    ")"
   ]
  },
  {
   "cell_type": "markdown",
   "metadata": {},
   "source": [
    "### Test the WikiRag Class"
   ]
  },
  {
   "cell_type": "code",
   "execution_count": 3,
   "metadata": {},
   "outputs": [],
   "source": [
    "# Import the wiki_rag package from path\n",
    "import sys\n",
    "sys.path.insert(1, \"../\")"
   ]
  },
  {
   "cell_type": "code",
   "execution_count": 4,
   "metadata": {},
   "outputs": [],
   "source": [
    "from wiki_rag import WikiRag"
   ]
  },
  {
   "cell_type": "code",
   "execution_count": 5,
   "metadata": {},
   "outputs": [
    {
     "name": "stderr",
     "output_type": "stream",
     "text": [
      "c:\\Users\\Mauro Andretta\\anaconda3\\envs\\wiki_rag_notebooks\\Lib\\site-packages\\sentence_transformers\\cross_encoder\\CrossEncoder.py:11: TqdmWarning: IProgress not found. Please update jupyter and ipywidgets. See https://ipywidgets.readthedocs.io/en/stable/user_install.html\n",
      "  from tqdm.autonotebook import tqdm, trange\n",
      "c:\\Users\\Mauro Andretta\\anaconda3\\envs\\wiki_rag_notebooks\\Lib\\site-packages\\transformers\\tokenization_utils_base.py:1601: FutureWarning: `clean_up_tokenization_spaces` was not set. It will be set to `True` by default. This behavior will be depracted in transformers v4.45, and will be then set to `False` by default. For more details check this issue: https://github.com/huggingface/transformers/issues/31884\n",
      "  warnings.warn(\n"
     ]
    }
   ],
   "source": [
    "# Create an instance of the WikiRag class\n",
    "wiki_rag = WikiRag(\n",
    "    qdrant_url=\"http://localhost:6333\",\n",
    "    qdrant_collection_name=\"olympics\"\n",
    ")"
   ]
  },
  {
   "cell_type": "markdown",
   "metadata": {},
   "source": [
    "## Test the WikiRag class"
   ]
  },
  {
   "cell_type": "code",
   "execution_count": 6,
   "metadata": {},
   "outputs": [],
   "source": [
    "# 1. Quale città ospitò i primi Giochi Olimpici estivi dell’età moderna? In che anno?\n",
    "question_1 = \"Quale città ospitò i primi Giochi Olimpici estivi dell’età moderna? In che anno?\"\n",
    "\n",
    "# 2. Quante volte i Giochi Olimpici estivi sono stati ospitati in Francia (Parigi 2024 incluso)?\n",
    "question_2 = \"Quante volte i Giochi Olimpici estivi sono stati ospitati in Francia (Parigi 2024 incluso)?\"\n",
    "\n",
    "# 3. Quanto tempo è passato dall’ultima volta che Parigi ha ospitato le olimpiadi estive?\n",
    "question_3 = \"Quanto tempo è passato dall’ultima volta che Parigi ha ospitato le olimpiadi estive?\"\n",
    "\n",
    "# 4. La prima edizione dei Giochi Olimpici invernali è avvenuta prima della prima edizione dei Giochi Olimpici estivi?\n",
    "question_4 = \"La prima edizione dei Giochi Olimpici invernali è avvenuta prima della prima edizione dei Giochi Olimpici estivi?\"\n",
    "\n",
    "# 5. L’arrampicata sportiva non è uno sport olimpico: vero o falso?\n",
    "question_5 = \"L’arrampicata sportiva non è uno sport olimpico: vero o falso?\"\n",
    "\n",
    "# 6. Quale è il numero medio di ori olimpici per edizione per l’Italia?\n",
    "question_6 = \"Quale è il numero medio di ori olimpici per edizione per l’Italia?\"\n",
    "\n",
    "# 7. Chi è l’ultima vincitrice dei 100 metri piani? Con quale tempo?\n",
    "question_7 = \"Chi è l’ultima vincitrice dei 100 metri piani? Con quale tempo?\""
   ]
  },
  {
   "cell_type": "code",
   "execution_count": 9,
   "metadata": {},
   "outputs": [],
   "source": [
    "questions = [question_1, question_2, question_3, question_4, question_5, question_6, question_7]"
   ]
  },
  {
   "cell_type": "code",
   "execution_count": 7,
   "metadata": {},
   "outputs": [
    {
     "name": "stdout",
     "output_type": "stream",
     "text": [
      "Given the question: Quale città ospitò i primi Giochi Olimpici estivi dell’età moderna? In che anno?, the answer is: La risposta è: Atene, nel 1896.\n"
     ]
    }
   ],
   "source": [
    "answer1 = wiki_rag.invoke(query=question_1)\n",
    "print(f\"Given the question: {question_1}, the answer is: {answer1}\")"
   ]
  },
  {
   "cell_type": "code",
   "execution_count": 10,
   "metadata": {},
   "outputs": [
    {
     "name": "stdout",
     "output_type": "stream",
     "text": [
      "Data la domanda: Quale città ospitò i primi Giochi Olimpici estivi dell’età moderna? In che anno?\n",
      "La risposta è: La risposta è: Atene nel 1896.\n",
      "\n",
      "Data la domanda: Quante volte i Giochi Olimpici estivi sono stati ospitati in Francia (Parigi 2024 incluso)?\n",
      "La risposta è: La risposta è 3. La città di Parigi ha già ospitato i Giochi Olimpici estivi nel 1900 e nel 1924, e sarà la terza volta che lo farà con l'edizione del 2024.\n",
      "\n",
      "Data la domanda: Quanto tempo è passato dall’ultima volta che Parigi ha ospitato le olimpiadi estive?\n",
      "La risposta è: Non so.\n",
      "\n",
      "Data la domanda: La prima edizione dei Giochi Olimpici invernali è avvenuta prima della prima edizione dei Giochi Olimpici estivi?\n",
      "La risposta è: Sì, la prima edizione dei Giochi Olimpici invernali è avvenuta prima della prima edizione dei Giochi Olimpici estivi. La prima edizione dei Giochi Olimpici invernali si è tenuta a Chamonix nel 1924, mentre la prima edizione dei Giochi Olimpici estivi si è tenuta a Atene nel 1896.\n",
      "\n",
      "Data la domanda: L’arrampicata sportiva non è uno sport olimpico: vero o falso?\n",
      "La risposta è: Risposta: Falso.\n",
      "\n",
      "L'arrampicata sportiva è infatti una disciplina che sarà presente alle Olimpiadi di Parigi 2024.\n",
      "\n",
      "Data la domanda: Quale è il numero medio di ori olimpici per edizione per l’Italia?\n",
      "La risposta è: Non lo so.\n",
      "\n",
      "Data la domanda: Chi è l’ultima vincitrice dei 100 metri piani? Con quale tempo?\n",
      "La risposta è: Non so.\n",
      "\n"
     ]
    }
   ],
   "source": [
    "# Response to all the questions\n",
    "for question in questions:\n",
    "    answer = wiki_rag.invoke(query=question)\n",
    "    print(f\"Data la domanda: {question}\")\n",
    "    print(f\"La risposta è: {answer}\\n\")"
   ]
  },
  {
   "cell_type": "markdown",
   "metadata": {},
   "source": [
    "## Expand the context with Web Search\n",
    "\n",
    "Useful links:\n",
    "- [DuckDuckGo Search](https://python.langchain.com/v0.2/docs/integrations/tools/ddg/)\n",
    "- [Source Code duckduckgo_search](https://python.langchain.com/v0.2/api_reference/_modules/langchain_community/utilities/duckduckgo_search.html#DuckDuckGoSearchAPIWrapper)\n",
    "- [Available regions](https://pypi.org/project/duckduckgo-search/#regions)"
   ]
  },
  {
   "cell_type": "code",
   "execution_count": 14,
   "metadata": {},
   "outputs": [],
   "source": [
    "from langchain_community.tools import DuckDuckGoSearchRun\n",
    "from langchain_community.utilities import DuckDuckGoSearchAPIWrapper\n",
    "from langchain_community.tools import DuckDuckGoSearchResults"
   ]
  },
  {
   "cell_type": "code",
   "execution_count": 15,
   "metadata": {},
   "outputs": [],
   "source": [
    "wrapper = DuckDuckGoSearchAPIWrapper(region=\"it-it\")\n",
    "\n",
    "search = DuckDuckGoSearchRun(api_wrapper=wrapper)\n",
    "\n",
    "result = search.invoke(\"Qual'è il primo nome di Obama?\")"
   ]
  },
  {
   "cell_type": "code",
   "execution_count": 16,
   "metadata": {},
   "outputs": [
    {
     "name": "stdout",
     "output_type": "stream",
     "text": [
      "The result is: Ma chi è Barack Hussein Obama? La sua storia parte da lontano, lontanissimo. Nasce nelle Hawaii, a Honolulu. Il padre originario del Kenya, la madre del Kansas. Lui economista, lei antropologa. Si separano subito, con Barack ancora piccolissimo. Dal figlio di Tim Walz alle \"dimensioni\" di Obama, i momenti più virali della convention dei Democratici Barack Obama torna sul palco di una Convention democratica due decenni dopo il suo memorabile debutto. Stavolta il suo compito è diverso. Nel 2004, era un giovane senatore statale dell'Illinois ... Quarantatré anni, famiglia scampata ai lager, il prozio fu il primo capo di Obama, da tre anni scrive i discorsi della vicepresidente e candidata a… Barack Obama torna sul palco di una Convention democratica due decenni dopo il suo memorabile debutto. Stavolta il suo compito è diverso. Nel 2004 Obama era un giovane senatore statale dell ...\n",
      "typeof(result): <class 'str'>\n"
     ]
    }
   ],
   "source": [
    "print(f\"The result is: {result}\")\n",
    "print(f\"typeof(result): {type(result)}\")"
   ]
  },
  {
   "cell_type": "code",
   "execution_count": 30,
   "metadata": {},
   "outputs": [],
   "source": [
    "result = search.invoke(\"Chi è l’ultima vincitrice dei 100 metri piani? Con quale tempo?\")"
   ]
  },
  {
   "cell_type": "code",
   "execution_count": 31,
   "metadata": {},
   "outputs": [
    {
     "name": "stdout",
     "output_type": "stream",
     "text": [
      "The result is: Noah Lyles, nato a Gainesville il 18 luglio 1997, è un velocista statunitense, campione mondiale dei 100 metri piani e dei 200 metri piani a Budapest 2023 e dei 200 metri... Domenica sera Noah Lyles ha vinto la finale dei 100 metri piani. L'americano ha \"bissato\" il titolo Mondiale di Budapest e si è confermato il padrone totale della velocità in pista, battendo atleti del calibro di Kishane Thompson, Fred Kerley, Akani Simbine e il nostro Marcell Jacobs. Marcell Jacobs centra la finale dei 100 metri. Nell'ultima batteria di semifinale il miglior tempo è del giamaicano Thompson in 9\"80, davanti all'americano Kerley i 9\"84 e al sudafricano... Domenica 4 agosto lo statunitense Noah Lyles ha vinto in 9,79 secondi una finale olimpica dei 100 metri molto equilibrata e competitiva (l'italiano Marcell Jacobs è arrivato quinto in 9,85). OLIMPIADI PARIGI - Marcell Jacobs chiude al quinto posto la finale dei 100 metri, correndo in 9''85 (record stagionale) nella gara simbolo dei Giochi. Oro allo statunitense Noah Lyles (9''79) che batte per cinque millesimi il giamaicano Kishane Thompson (anche lui 9''79).\n",
      "typeof(result): <class 'str'>\n"
     ]
    }
   ],
   "source": [
    "print(f\"The result is: {result}\")\n",
    "print(f\"typeof(result): {type(result)}\")"
   ]
  },
  {
   "cell_type": "code",
   "execution_count": 26,
   "metadata": {},
   "outputs": [],
   "source": [
    "# To get more additional information (e.g. link, source) use DuckDuckGoSearchResults()\n",
    "wrapper = DuckDuckGoSearchAPIWrapper(region=\"it-it\")\n",
    "\n",
    "search = DuckDuckGoSearchResults(api_wrapper=wrapper)\n",
    "\n",
    "result = search.invoke(\"Qual'è il primo nome di Obama?\")"
   ]
  }
 ],
 "metadata": {
  "kernelspec": {
   "display_name": "Python 3",
   "language": "python",
   "name": "python3"
  },
  "language_info": {
   "codemirror_mode": {
    "name": "ipython",
    "version": 3
   },
   "file_extension": ".py",
   "mimetype": "text/x-python",
   "name": "python",
   "nbconvert_exporter": "python",
   "pygments_lexer": "ipython3",
   "version": "3.11.9"
  }
 },
 "nbformat": 4,
 "nbformat_minor": 2
}
